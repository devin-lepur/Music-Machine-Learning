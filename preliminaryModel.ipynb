{
 "cells": [
  {
   "cell_type": "code",
   "execution_count": null,
   "metadata": {
    "colab": {
     "base_uri": "https://localhost:8080/"
    },
    "id": "nXMj6OAIWaIE",
    "outputId": "a6db65cb-b690-4ba1-f59a-48bc1af9d28a"
   },
   "outputs": [
    {
     "name": "stdout",
     "output_type": "stream",
     "text": [
      "Drive already mounted at /content/drive; to attempt to forcibly remount, call drive.mount(\"/content/drive\", force_remount=True).\n"
     ]
    }
   ],
   "source": [
    "from google.colab import drive\n",
    "drive.mount('/content/drive')"
   ]
  },
  {
   "cell_type": "code",
   "execution_count": null,
   "metadata": {
    "id": "Knk8UsneWgVV"
   },
   "outputs": [],
   "source": [
    "import pandas as pd\n",
    "import numpy as np\n",
    "from matplotlib import pyplot as plt\n",
    "import seaborn as sns\n",
    "from sklearn.model_selection import train_test_split\n",
    "from sklearn.linear_model import LogisticRegression\n",
    "from sklearn.metrics import mean_squared_error, mean_absolute_error\n",
    "from sklearn import metrics\n",
    "from sklearn.preprocessing import MinMaxScaler"
   ]
  },
  {
   "cell_type": "code",
   "execution_count": null,
   "metadata": {
    "id": "f4cZZu8IWy4S"
   },
   "outputs": [],
   "source": [
    "#Read datasets and add 'isLiked' column with default values to both dataframes\n",
    "liked = pd.read_csv(\"/content/drive/MyDrive/MusicMachineLearningProject/database_likes.csv\")\n",
    "disliked = pd.read_csv(\"/content/drive/MyDrive/MusicMachineLearningProject/database_dislikes.csv\")\n",
    "liked[\"isLiked\"] = True\n",
    "disliked[\"isLiked\"] = False"
   ]
  },
  {
   "cell_type": "code",
   "execution_count": null,
   "metadata": {
    "id": "GwNy5UhHXJh9"
   },
   "outputs": [],
   "source": [
    "#Drop any rows with missing values (ie. local files)\n",
    "liked.dropna(inplace=True)\n",
    "disliked.dropna(inplace=True)"
   ]
  },
  {
   "cell_type": "code",
   "execution_count": null,
   "metadata": {
    "id": "ZuGa_aWxZNKb"
   },
   "outputs": [],
   "source": [
    "#Merge the dataframes, drop duplicate songs\n",
    "merged = pd.concat([liked,disliked])\n",
    "merged.drop_duplicates(subset=[\"Spotify ID\"], inplace=True)\n",
    "merged.reset_index(drop=True, inplace=True)"
   ]
  },
  {
   "cell_type": "code",
   "execution_count": null,
   "metadata": {
    "colab": {
     "base_uri": "https://localhost:8080/"
    },
    "id": "2S2iDNu_afSi",
    "outputId": "1befbed2-3ef2-4c32-ee2c-d7ea6d9d9733"
   },
   "outputs": [
    {
     "data": {
      "text/plain": [
       "array([[42, 27],\n",
       "       [12, 72]])"
      ]
     },
     "execution_count": 155,
     "metadata": {},
     "output_type": "execute_result"
    }
   ],
   "source": [
    "#Split Data\n",
    "X = merged.drop(['Spotify ID', 'Artist IDs', 'Track Name', 'Album Name',\n",
    "       'Artist Name(s)', 'Release Date', 'Duration (ms)', 'Added By', 'Added At', 'Genres', 'Loudness', 'isLiked'], axis=1)\n",
    "y = merged['isLiked']\n",
    "\n",
    "#Create scaler for normalization\n",
    "scaler = MinMaxScaler()\n",
    "X = scaler.fit_transform(X)\n",
    "\n",
    "#Train model using logistic regression\n",
    "X_train, X_test, y_train, y_test = train_test_split(X, y, test_size=0.2, random_state=101)\n",
    "model = LogisticRegression(random_state=101, max_iter=1000)\n",
    "model.fit(X_train, y_train)\n",
    "\n",
    "#Create a confusion matrix\n",
    "predictions = model.predict(X_test)\n",
    "cnf_matrix = metrics.confusion_matrix(y_test, predictions)\n",
    "cnf_matrix"
   ]
  },
  {
   "cell_type": "code",
   "execution_count": null,
   "metadata": {
    "colab": {
     "base_uri": "https://localhost:8080/"
    },
    "id": "1ep7AZZLkQNC",
    "outputId": "6b00ae8e-24af-457b-8dd2-0e721e8e9fd6"
   },
   "outputs": [
    {
     "name": "stdout",
     "output_type": "stream",
     "text": [
      "              precision    recall  f1-score   support\n",
      "\n",
      "    Disliked       0.78      0.61      0.68        69\n",
      "       Liked       0.73      0.86      0.79        84\n",
      "\n",
      "    accuracy                           0.75       153\n",
      "   macro avg       0.75      0.73      0.73       153\n",
      "weighted avg       0.75      0.75      0.74       153\n",
      "\n"
     ]
    }
   ],
   "source": [
    "#Display report\n",
    "target_names = ['Disliked', 'Liked']\n",
    "print(metrics.classification_report(y_test, predictions, target_names=target_names))"
   ]
  }
 ],
 "metadata": {
  "colab": {
   "provenance": []
  },
  "kernelspec": {
   "display_name": "Python 3 (ipykernel)",
   "language": "python",
   "name": "python3"
  },
  "language_info": {
   "codemirror_mode": {
    "name": "ipython",
    "version": 3
   },
   "file_extension": ".py",
   "mimetype": "text/x-python",
   "name": "python",
   "nbconvert_exporter": "python",
   "pygments_lexer": "ipython3",
   "version": "3.11.5"
  }
 },
 "nbformat": 4,
 "nbformat_minor": 1
}
